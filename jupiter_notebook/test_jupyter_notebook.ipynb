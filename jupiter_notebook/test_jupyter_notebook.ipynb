{
 "cells": [
  {
   "cell_type": "markdown",
   "id": "345bce55",
   "metadata": {},
   "source": [
    "# Python ka chilla_0.1\n",
    "## VSCode practice in jupiter notebook\n",
    "### 01_my first programe"
   ]
  },
  {
   "cell_type": "code",
   "execution_count": 1,
   "id": "3448dfcd",
   "metadata": {},
   "outputs": [
    {
     "name": "stdout",
     "output_type": "stream",
     "text": [
      "Python_with_Sonia_Irfan\n",
      "I am learning python with sir Ammar\n",
      "Python_with_Sonia_Irfan\n",
      "I am learning python with sir Ammar\n",
      "It is fun to learn and write codes.\n"
     ]
    }
   ],
   "source": [
    "print(\"Python_with_Sonia_Irfan\")\n",
    "print(\"I am learning python with sir Ammar\")\n",
    "\n",
    "print(\"Python_with_Sonia_Irfan\")\n",
    "print(\"I am learning python with sir Ammar\")\n",
    "print(\"It is fun to learn and write codes.\")"
   ]
  },
  {
   "cell_type": "markdown",
   "id": "3cc4617d",
   "metadata": {},
   "source": [
    "### **02_Operators**"
   ]
  },
  {
   "cell_type": "code",
   "execution_count": 2,
   "id": "c82b91a4",
   "metadata": {},
   "outputs": [
    {
     "name": "stdout",
     "output_type": "stream",
     "text": [
      "5\n",
      "1\n",
      "4.5\n",
      "4\n",
      "27\n",
      "729\n",
      "2.25\n",
      "1\n",
      "1\n",
      "4.666666666666666\n",
      "4\n",
      "6.0\n"
     ]
    }
   ],
   "source": [
    "#addition\n",
    "print(2+3)\n",
    "\n",
    "#subtraction\n",
    "print(3-2) \n",
    "\n",
    "#DIVISION\n",
    "print(9/2)\n",
    "\n",
    "#give answer of divion in whole numbers\n",
    "print(9//2)\n",
    "\n",
    "#multiplication\n",
    "print(9*3)\n",
    "\n",
    "#9 raise to power 3\n",
    "print(9**3) \n",
    "\n",
    "#divide 2 times giving answer in whole numbers\n",
    "print(9/2/2)\n",
    "\n",
    "# gives remainder\n",
    "print(9%2%2)\n",
    "\n",
    "#remainder value\n",
    "print(9%2) \n",
    "\n",
    "print(2**3/3+6-4)\n",
    "print(2**3%3+6-4)\n",
    "print(2**3/2*3/3+6-4)"
   ]
  },
  {
   "cell_type": "markdown",
   "id": "dc7bbc2d",
   "metadata": {},
   "source": [
    "### **03_strings_&_comments**"
   ]
  },
  {
   "cell_type": "code",
   "execution_count": 3,
   "id": "1f016132",
   "metadata": {},
   "outputs": [
    {
     "name": "stdout",
     "output_type": "stream",
     "text": [
      "I am learning python with sir Ammar\n",
      "I am learning python with sir Ammar\n",
      "How's the day   ? The day is fine.\n",
      "How's' the day   ?\n",
      "I am learning python with sir Ammar   ?\n"
     ]
    }
   ],
   "source": [
    "#string types for single, double and triple quotes\n",
    "\n",
    "print('I am learning python with sir Ammar')\n",
    "print(\"I am learning python with sir Ammar\")\n",
    "print(\"How's the day   ? The day is fine.\")\n",
    "print(\"How's' the day   ?\")\n",
    "print('''I am learning python with sir Ammar   ?''') \n"
   ]
  },
  {
   "cell_type": "markdown",
   "id": "faaa3f2c",
   "metadata": {},
   "source": [
    "### **04_variables**"
   ]
  },
  {
   "cell_type": "code",
   "execution_count": 4,
   "id": "31cedc1a",
   "metadata": {},
   "outputs": [
    {
     "name": "stdout",
     "output_type": "stream",
     "text": [
      "2\n",
      "<class 'int'>\n",
      "<class 'int'>\n",
      "fruit basket\n",
      "14\n",
      "not a fruit basket\n",
      "<class 'str'>\n"
     ]
    }
   ],
   "source": [
    "x=4\n",
    "y=2\n",
    "x\n",
    "x+y  \n",
    "print(y)\n",
    "print(type(x)) #shows x is integer\n",
    "print(type(y)) #shows y is a string\n",
    "y=\"fruit basket\"\n",
    "print(y)\n",
    "x= x+10\n",
    "print(x)\n",
    "\n",
    "y=\"not a fruit basket\"\n",
    "print(y) #updated value of y\n",
    "# del y, for deleting a variable\n",
    "print(type(y))"
   ]
  },
  {
   "cell_type": "markdown",
   "id": "6ada0680",
   "metadata": {},
   "source": [
    "### **05_Input_variable_function**"
   ]
  },
  {
   "cell_type": "code",
   "execution_count": 5,
   "id": "660a3baf",
   "metadata": {},
   "outputs": [
    {
     "name": "stdout",
     "output_type": "stream",
     "text": [
      "what is your favourite fruit? apple\n",
      "apple\n",
      "what is your favourite fruit? mango\n",
      "wow! mango only?\n",
      "how old are you? Sonia Irfan\n",
      "wow! good to know that you are Sonia Irfan\n",
      "what is yoour name? Sonia Irfan\n",
      "how old are you?36\n",
      "Hello! Sonia Irfan 36\n",
      "what is your name? Sonia Irfan\n",
      "how old are you? 36\n",
      "Hello! Sonia Irfan ,Nice to meet you.\n"
     ]
    }
   ],
   "source": [
    "fruit_basket=input(\"what is your favourite fruit? \")\n",
    "print(fruit_basket)\n",
    "\n",
    "fruit_basket=input(\"what is your favourite fruit? \")\n",
    "print(\"wow!\",fruit_basket,\"only?\")\n",
    "\n",
    "age=input(\"how old are you? \")\n",
    "print(\"wow! good to know that you are\", age )\n",
    "\n",
    "name=input(\"what is yoour name? \")\n",
    "age=input(\"how old are you?\")\n",
    "greetings=\"Hello!\"\n",
    "print(greetings, name, age)\n",
    "\n",
    "name=input(\"what is your name? \")\n",
    "age=input(\"how old are you? \")\n",
    "greetings=\"Hello!\"\n",
    "print(greetings, name,\",Nice to meet you.\")"
   ]
  },
  {
   "cell_type": "markdown",
   "id": "1d24a135",
   "metadata": {},
   "source": [
    "### **06_Condittional_logic**"
   ]
  },
  {
   "cell_type": "code",
   "execution_count": 6,
   "id": "70230dc3",
   "metadata": {},
   "outputs": [
    {
     "name": "stdout",
     "output_type": "stream",
     "text": [
      "False\n",
      "True\n",
      "False\n",
      "True\n",
      "False\n",
      "True\n",
      "False\n",
      "True\n",
      "how old is hammad? 4\n"
     ]
    }
   ],
   "source": [
    "print(8==6)\n",
    "#is 8 is not equal to 9?\n",
    "print(8!=9)\n",
    "#is 8 greater than 9?\n",
    "print(8>9)\n",
    "# is 8 less than 9?\n",
    "print(8<9)\n",
    "\n",
    "#is 8 greater and equal than 9?\n",
    "print(8>=9)\n",
    "print(8<=9)\n",
    "\n",
    "#when Hammad age is < 5\n",
    "hammad_age=4\n",
    "age_at_school=5\n",
    "\n",
    "#is hammad age is school going?\n",
    "print(hammad_age==  age_at_school)\n",
    "\n",
    "#when Hammad age is > 5\n",
    "hammad_age=5\n",
    "age_at_school=5\n",
    "#is hammad age is school going?\n",
    "print(hammad_age==  age_at_school)\n",
    "\n",
    "#input function and logic\n",
    "hammad_age=4\n",
    "age_at_school=5\n",
    "age_at_school=input(\"how old is hammad? \")\n",
    "\n"
   ]
  },
  {
   "cell_type": "markdown",
   "id": "58f7f82c",
   "metadata": {},
   "source": [
    "### **07_Conversion**"
   ]
  },
  {
   "cell_type": "code",
   "execution_count": 7,
   "id": "2a32cdb2",
   "metadata": {},
   "outputs": [
    {
     "name": "stdout",
     "output_type": "stream",
     "text": [
      "<class 'int'>\n",
      "<class 'float'>\n",
      "<class 'str'>\n",
      "102.0 <class 'float'>\n",
      "112.2 <class 'float'>\n",
      "what is your age? 18\n",
      "<class 'str'>\n",
      "18 <class 'int'>\n",
      "red <class 'str'>\n"
     ]
    }
   ],
   "source": [
    "# check the class of variables\n",
    "\n",
    "\n",
    "#integer\n",
    "x=10\n",
    "print(type(x))\n",
    "\n",
    "# float\n",
    "b=10.2\n",
    "print(type(b))\n",
    "\n",
    "# string\n",
    "greetings=\"Hello\"\n",
    "print(type(greetings))\n",
    "\n",
    "# float multiyply interger the type will always remain float\n",
    "x=x*b\n",
    "# print(x) \n",
    "# print(type(x))\n",
    "print(x, type(x))\n",
    "\n",
    "# implicit conversion\n",
    "x=x+b\n",
    "print(x,type(x))\n",
    "\n",
    "#explicit conversion\n",
    "age=input(\"what is your age? \")\n",
    "print(type(age))\n",
    "print(age,type(int(age)))\n",
    "\n",
    "color=\"red\"\n",
    "print(color,type(color))\n",
    "\n",
    "# *print(type(int(color))) not work literal meaning will change*\n"
   ]
  },
  {
   "cell_type": "markdown",
   "id": "774049de",
   "metadata": {},
   "source": [
    "### **08_If_elif_else**"
   ]
  },
  {
   "cell_type": "code",
   "execution_count": 8,
   "id": "e625784a",
   "metadata": {},
   "outputs": [
    {
     "name": "stdout",
     "output_type": "stream",
     "text": [
      "hammd cannot go to school.\n",
      "hammd can go to school.\n",
      "he should join the higher school.\n",
      "hammd is too young to go to school.\n",
      "2 ,he should be taken care of at home.\n"
     ]
    }
   ],
   "source": [
    "# situation 1: age is less\n",
    "# question , can hammad go to school?\n",
    "hammad_age=4\n",
    "age_at_school=5\n",
    "# age_at_school=input(\"how old is hammad? \")\n",
    "if hammad_age==age_at_school:\n",
    "    print(\"hammd can go to school.\")\n",
    "else:print(\"hammd cannot go to school.\")\n",
    "\n",
    "# situation 2, age is equal:\n",
    "hammad_age=5\n",
    "age_at_school=5\n",
    "# age_at_school=input(\"how old is hammad? \")\n",
    "if hammad_age==age_at_school:\n",
    "    print(\"hammd can go to school.\")\n",
    "else:print(\"hammd is too young to go to school.\")\n",
    "\n",
    "# situation 3, age is too more:\n",
    "hammad_age=10\n",
    "age_at_school=5\n",
    "# age_at_school=input(\"how old is hammad? \") *note:if, elif and else should be in the same line.\n",
    "\n",
    "if hammad_age==age_at_school:\n",
    "    print(\"hammd can go to school.\")\n",
    "elif hammad_age > age_at_school:\n",
    "    print(\"he should join the higher school.\")\n",
    "else:print(\"hammd cannot go to school.\")\n",
    "\n",
    "hammad_age=2\n",
    "age_at_school=5\n",
    "# age_at_school=input(\"how old is hammad? \")\n",
    "if hammad_age==age_at_school:\n",
    "    print(\"hammd can go to school.\")\n",
    "else:print(\"hammd is too young to go to school.\")\n",
    "\n",
    "hammad_age=2\n",
    "age_at_school=5\n",
    "if hammad_age==age_at_school:\n",
    "    print(\"hammd can go to school.\")\n",
    "elif hammad_age < age_at_school:\n",
    "    print(hammad_age,\",he should be taken care of at home.\")\n",
    "else:print(hammad_age, \"hammd cannot go to school.\")"
   ]
  },
  {
   "cell_type": "markdown",
   "id": "9c75dc03",
   "metadata": {},
   "source": [
    "### **09_Functions**"
   ]
  },
  {
   "cell_type": "code",
   "execution_count": 10,
   "id": "d0766367",
   "metadata": {},
   "outputs": [
    {
     "name": "stdout",
     "output_type": "stream",
     "text": [
      "I am learnin python with sir Ammar\n",
      "I am learning python with sir Ammar\n",
      "I am learning python with sir Ammar\n",
      "I am learning python with sir Ammar\n",
      "I am learning python with sir Ammar\n",
      "I am learning python with sir Ammar\n",
      "I am learning python with sir Ammar\n",
      "I am learning python with sir Ammar\n",
      "I am learning python with sir Ammar\n",
      "I am learning python with sir Ammar\n",
      "I am learning python with sir Ammar\n",
      "I am learning python with sir Ammar\n",
      "Evaluating the relationship among performance measures in an organization's balanced scorecard and strategy map.Using sales and cost data to estimate how much it would be worth to implement a new\n",
      "training program and finally using simulations to create budgets.\n",
      "Evaluating the relationship among performance measures in an organization's balanced scorecard and strategy map.Using sales and cost data to estimate how much it would be worth to implement a new\n",
      "training program and finally using simulations to create budgets.\n",
      "Evaluating the relationship among performance measures in an organization's balanced scorecard and strategy map.Using sales and cost data to estimate how much it would be worth to implement a new\n",
      "training program and finally using simulations to create budgets.\n",
      "hammad can go to school\n"
     ]
    }
   ],
   "source": [
    "#functions leads to output\n",
    "\n",
    "print(\"I am learnin python with sir Ammar\")\n",
    "print(\"I am learning python with sir Ammar\")\n",
    "print(\"I am learning python with sir Ammar\")\n",
    "print(\"I am learning python with sir Ammar\")\n",
    "print(\"I am learning python with sir Ammar\")\n",
    "print(\"I am learning python with sir Ammar\")\n",
    "\n",
    "#defining a function so repetion becomes easy\n",
    "# 1\n",
    "def print_codenics (): \n",
    "    print(\"I am learning python with sir Ammar\")\n",
    "    print(\"I am learning python with sir Ammar\")    \n",
    "    print(\"I am learning python with sir Ammar\") \n",
    "print_codenics ()\n",
    "\n",
    "# 2- change in one line will be shown in every\n",
    "def print_codenics (): \n",
    "    text=\"I am learning python with sir Ammar\"\n",
    "    print(text)\n",
    "    print(text)  \n",
    "    print(text)\n",
    "\n",
    "print_codenics()\n",
    "\n",
    "# # 3\n",
    "def print_codenics (text): \n",
    "    print (text)\n",
    "    print (text)\n",
    "    print (text)\n",
    "\n",
    "print_codenics('''Evaluating the relationship among performance measures in an organization's balanced scorecard and strategy map.Using sales and cost data to estimate how much it would be worth to implement a new\n",
    "training program and finally using simulations to create budgets.''')\n",
    "\n",
    "#3 defining function with if else statement\n",
    "def school_calculator(age, text):\n",
    "    if age==5:\n",
    "        print(\"hammad can go to school\")\n",
    "    elif age>5:\n",
    "        print(\"hammad should go to the heigher school.\")                      \n",
    "    else:\n",
    "        print(\"Hammad is still a baby.\")\n",
    "\n",
    "school_calculator(5,\"hey\")\n",
    "\n",
    "# defing a function of future"
   ]
  },
  {
   "cell_type": "markdown",
   "id": "5ef5493f",
   "metadata": {},
   "source": [
    "### **10_Loops**"
   ]
  },
  {
   "cell_type": "code",
   "execution_count": 11,
   "id": "664e41a0",
   "metadata": {},
   "outputs": [
    {
     "name": "stdout",
     "output_type": "stream",
     "text": [
      "0\n",
      "1\n",
      "2\n",
      "3\n",
      "4\n",
      "0\n",
      "1\n",
      "2\n",
      "3\n",
      "4\n",
      "5\n",
      "5\n",
      "6\n",
      "7\n",
      "8\n",
      "9\n",
      "Mon\n",
      "Tues\n",
      "Wed\n",
      "Thur\n",
      "Fri\n",
      "Sat\n",
      "Sun\n",
      "Mon\n",
      "Tues\n",
      "Wed\n",
      "Thur\n",
      "Mon\n",
      "Tues\n",
      "Wed\n",
      "Thur\n",
      "Sat\n",
      "Sun\n"
     ]
    }
   ],
   "source": [
    "# while loop\n",
    "x=0\n",
    "while(x<5):\n",
    "    print(x)\n",
    "    x=x+1\n",
    "    \n",
    "x=0\n",
    "while(x<=5):\n",
    "    print(x)\n",
    "    x=x+1\n",
    "\n",
    "# for function\n",
    "for x in range(5,10):\n",
    "    print(x)\n",
    "\n",
    "days=(\"Mon\", \"Tues\", \"Wed\", \"Thur\",\"Fri\", \"Sat\",\"Sun\")\n",
    "\n",
    "for d in days:\n",
    "    print(d)\n",
    "for d in days:\n",
    "    if (d==\"Fri\"): break\n",
    "    print(d)\n",
    "\n",
    "# breaking the loop and go on\n",
    "for d in days:\n",
    "    if (d==\"Fri\"):continue\n",
    "    print(d)"
   ]
  },
  {
   "cell_type": "markdown",
   "id": "eaf60576",
   "metadata": {},
   "source": [
    "### **11_Import_Libraries**"
   ]
  },
  {
   "cell_type": "code",
   "execution_count": 12,
   "id": "eecb44c9",
   "metadata": {},
   "outputs": [
    {
     "name": "stdout",
     "output_type": "stream",
     "text": [
      "the value of pi is 3.141592653589793\n",
      "310\n",
      "350\n",
      "350\n",
      "13.818181818181818\n",
      "10\n",
      "2\n",
      "161.56363636363636\n",
      "10\n"
     ]
    }
   ],
   "source": [
    "import math\n",
    "print(\"the value of pi is\", math.pi)\n",
    "\n",
    "import statistics\n",
    "x=[150,250,350,350,450]\n",
    "print(statistics.mean(x))                  \n",
    "\n",
    "print(statistics.median(x))\n",
    "\n",
    "print(statistics.mode(x))\n",
    "\n",
    "y=[2,4,6,8,1,10,15,19,20,22,45]\n",
    "print(statistics.mean(y))\n",
    "\n",
    "# print(type(z)) why? we can't find the type of stats function?\n",
    "\n",
    "print(statistics.median(y))\n",
    "\n",
    "print(statistics.mode(y))\n",
    "\n",
    "print(statistics.variance(y))\n",
    "\n",
    "print(statistics.median_high(y))"
   ]
  },
  {
   "cell_type": "code",
   "execution_count": null,
   "id": "46e6a0b9",
   "metadata": {},
   "outputs": [],
   "source": []
  },
  {
   "cell_type": "code",
   "execution_count": null,
   "id": "9673fd11",
   "metadata": {},
   "outputs": [],
   "source": []
  }
 ],
 "metadata": {
  "kernelspec": {
   "display_name": "Python 3 (ipykernel)",
   "language": "python",
   "name": "python3"
  },
  "language_info": {
   "codemirror_mode": {
    "name": "ipython",
    "version": 3
   },
   "file_extension": ".py",
   "mimetype": "text/x-python",
   "name": "python",
   "nbconvert_exporter": "python",
   "pygments_lexer": "ipython3",
   "version": "3.9.12"
  }
 },
 "nbformat": 4,
 "nbformat_minor": 5
}
